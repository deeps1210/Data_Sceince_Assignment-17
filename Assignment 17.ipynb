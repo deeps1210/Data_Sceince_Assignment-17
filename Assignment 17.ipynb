{
 "cells": [
  {
   "cell_type": "code",
   "execution_count": 1,
   "metadata": {},
   "outputs": [],
   "source": [
    "#Blood glucose levels for obese patients have a mean of 100 with a standard deviation of\n",
    "#15. A researcher thinks that a diet high in raw cornstarch will have a positive effect on\n",
    "#blood glucose levels. A sample of 36 patients who have tried the raw cornstarch diet\n",
    "#have a mean glucose level of 108. Test the hypothesis that the raw cornstarch had an\n",
    "#effect or not."
   ]
  },
  {
   "cell_type": "code",
   "execution_count": 11,
   "metadata": {},
   "outputs": [],
   "source": [
    "import numpy as np\n",
    "import pandas as pd\n",
    "from scipy import stats\n",
    "from scipy.stats import distributions as dists\n",
    "from math import sqrt"
   ]
  },
  {
   "cell_type": "code",
   "execution_count": 23,
   "metadata": {},
   "outputs": [],
   "source": [
    "#Hypothesis testing by using formula z=(𝑥 − 𝜇)/𝑠𝑥/√𝑛\n",
    "#Null hypothesis: H0: μ= 100\n",
    "#Alternate hypothesis H1: μ > 100"
   ]
  },
  {
   "cell_type": "code",
   "execution_count": 4,
   "metadata": {},
   "outputs": [],
   "source": [
    "x = 108"
   ]
  },
  {
   "cell_type": "code",
   "execution_count": 5,
   "metadata": {},
   "outputs": [],
   "source": [
    "mu = 100"
   ]
  },
  {
   "cell_type": "code",
   "execution_count": 6,
   "metadata": {},
   "outputs": [],
   "source": [
    "std = 15"
   ]
  },
  {
   "cell_type": "code",
   "execution_count": 7,
   "metadata": {},
   "outputs": [],
   "source": [
    "n = 36"
   ]
  },
  {
   "cell_type": "code",
   "execution_count": 16,
   "metadata": {},
   "outputs": [],
   "source": [
    "z = (x-mu)/(std/np.sqrt(n))"
   ]
  },
  {
   "cell_type": "code",
   "execution_count": 17,
   "metadata": {},
   "outputs": [
    {
     "data": {
      "text/plain": [
       "3.2"
      ]
     },
     "execution_count": 17,
     "metadata": {},
     "output_type": "execute_result"
    }
   ],
   "source": [
    "z"
   ]
  },
  {
   "cell_type": "code",
   "execution_count": 22,
   "metadata": {},
   "outputs": [],
   "source": [
    "#The value of the probability by looking at z- table and p-value associated with 3.20 is 0.9993 \n",
    "#i.e. probability of having value less than 108 is 0.9993 and more than or equals to 108 is (1-0.9993)=0.0007."
   ]
  },
  {
   "cell_type": "code",
   "execution_count": 24,
   "metadata": {},
   "outputs": [],
   "source": [
    "#It is less than 0.05 so we will reject the Null hypothesis i.e. there is raw cornstarch effect."
   ]
  },
  {
   "cell_type": "code",
   "execution_count": 25,
   "metadata": {},
   "outputs": [],
   "source": [
    "#porblem 2:\n",
    "#In one state, 52% of the voters are Republicans, and 48% are Democrats. In a second\n",
    "#state, 47% of the voters are Republicans, and 53% are Democrats. Suppose a simple\n",
    "#random sample of 100 voters are surveyed from each state.\n",
    "#What is the probability that the survey will show a greater percentage of Republican\n",
    "#voters in the second state than in the first state?"
   ]
  },
  {
   "cell_type": "code",
   "execution_count": 27,
   "metadata": {},
   "outputs": [],
   "source": [
    "#For this analysis, let P1 = the proportion of Republican voters in the first state, \n",
    "#P2 = the proportion of Republican voters in the second state, \n",
    "#p1 = the proportion of Republican voters in the sample from the first state, \n",
    "#and p2 = the proportion of Republican voters in the sample from the second state. \n",
    "#The number of voters sampled from the first state \n",
    "n1 = 100\n",
    "#and the number of voters sampled from the second state \n",
    "n2 = 100"
   ]
  },
  {
   "cell_type": "code",
   "execution_count": 55,
   "metadata": {},
   "outputs": [],
   "source": [
    "P1 = 100 * 0.52\n",
    "P2 = 100 * 0.47"
   ]
  },
  {
   "cell_type": "code",
   "execution_count": 61,
   "metadata": {},
   "outputs": [],
   "source": [
    "#mean of the difference in sample proportions: \n",
    "E = float(0.52 - 0.47)"
   ]
  },
  {
   "cell_type": "code",
   "execution_count": 45,
   "metadata": {},
   "outputs": [],
   "source": [
    "#standard deviation of difference:\n",
    "#std = sqrt(( P1(1 - P1) / n1 ) + ( P2(1 - P2) / n2 ))\n",
    "std =  sqrt((float(0.52*0.48) / 100 ) + ( float(0.47*0.53) / 100 ))"
   ]
  },
  {
   "cell_type": "code",
   "execution_count": 46,
   "metadata": {},
   "outputs": [
    {
     "data": {
      "text/plain": [
       "0.07061869440877536"
      ]
     },
     "execution_count": 46,
     "metadata": {},
     "output_type": "execute_result"
    }
   ],
   "source": [
    "std"
   ]
  },
  {
   "cell_type": "code",
   "execution_count": 62,
   "metadata": {},
   "outputs": [],
   "source": [
    "#convert to z score\n",
    "#This problem requires us to find the probability that p1 is less than p2. \n",
    "#This is equivalent to finding the probability that p1 - p2 is less than zero. \n",
    "#To find this probability, we need to transform the random variable (p1 - p2) into a z-score.\n",
    "z = (0-E)/(std)"
   ]
  },
  {
   "cell_type": "code",
   "execution_count": 63,
   "metadata": {},
   "outputs": [
    {
     "data": {
      "text/plain": [
       "-0.7080278164104213"
      ]
     },
     "execution_count": 63,
     "metadata": {},
     "output_type": "execute_result"
    }
   ],
   "source": [
    "z"
   ]
  },
  {
   "cell_type": "code",
   "execution_count": 64,
   "metadata": {},
   "outputs": [],
   "source": [
    "#The probability of a z-score being -0.7082 or less is 0.24."
   ]
  },
  {
   "cell_type": "code",
   "execution_count": 66,
   "metadata": {},
   "outputs": [],
   "source": [
    "#The probability that the survey will show a greater percentage of Republican voters \n",
    "#in the second state than in the first state is 0.24."
   ]
  },
  {
   "cell_type": "code",
   "execution_count": 67,
   "metadata": {},
   "outputs": [],
   "source": [
    "#problem 3:\n",
    "#You take the SAT and score 1100. The mean score for the SAT is 1026 and the standard\n",
    "#deviation is 209. How well did you score on the test compared to the average test taker?"
   ]
  },
  {
   "cell_type": "code",
   "execution_count": 68,
   "metadata": {},
   "outputs": [],
   "source": [
    "X = 1100\n",
    "mu= 1026\n",
    "std = 209"
   ]
  },
  {
   "cell_type": "code",
   "execution_count": 69,
   "metadata": {},
   "outputs": [],
   "source": [
    "Z = (X-mu)/std"
   ]
  },
  {
   "cell_type": "code",
   "execution_count": 70,
   "metadata": {},
   "outputs": [
    {
     "data": {
      "text/plain": [
       "0.35406698564593303"
      ]
     },
     "execution_count": 70,
     "metadata": {},
     "output_type": "execute_result"
    }
   ],
   "source": [
    "Z"
   ]
  },
  {
   "cell_type": "code",
   "execution_count": 71,
   "metadata": {},
   "outputs": [],
   "source": [
    "#the value of probablity of Z .354 from Z table is .6368 or 63.68%\n",
    "#Hence 63.68% test takers scored below me"
   ]
  },
  {
   "cell_type": "code",
   "execution_count": null,
   "metadata": {},
   "outputs": [],
   "source": [
    "s"
   ]
  }
 ],
 "metadata": {
  "kernelspec": {
   "display_name": "Python 3",
   "language": "python",
   "name": "python3"
  },
  "language_info": {
   "codemirror_mode": {
    "name": "ipython",
    "version": 3
   },
   "file_extension": ".py",
   "mimetype": "text/x-python",
   "name": "python",
   "nbconvert_exporter": "python",
   "pygments_lexer": "ipython3",
   "version": "3.6.7"
  }
 },
 "nbformat": 4,
 "nbformat_minor": 2
}
